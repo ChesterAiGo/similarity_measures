{
 "cells": [
  {
   "cell_type": "markdown",
   "metadata": {},
   "source": [
    "# Fréchet distance\n",
    "\n",
    "This will compare the performance of calculating the discrete Fréchet distance with the recursive and dynamic programming algorithms."
   ]
  },
  {
   "cell_type": "code",
   "execution_count": 1,
   "metadata": {},
   "outputs": [],
   "source": [
    "import similaritymeasures as sm\n",
    "import numpy as np\n",
    "import matplotlib.pyplot as plt\n",
    "import toleranceinterval as ti\n",
    "from scipy.spatial import minkowski_distance\n",
    "from time import time\n"
   ]
  },
  {
   "cell_type": "code",
   "execution_count": 2,
   "metadata": {},
   "outputs": [],
   "source": [
    "def dp_frechet_dist(P, Q, pnorm=2):\n",
    "    \"\"\" dynamic programming for discrete frechet distance\n",
    "    \n",
    "    by SenZHANG https://github.com/SenZHANG-GitHub\n",
    "    https://github.com/cjekel/similarity_measures/issues/6#issuecomment-544350039\n",
    "    \"\"\"\n",
    "    n = P.shape[0]  # len(P)\n",
    "    m = Q.shape[0]  # len(Q)\n",
    "    ca = np.ones((n, m))\n",
    "    ca = np.multiply(ca, -1)\n",
    "    ca[0, 0] = minkowski_distance(P[0], Q[0], p=pnorm)\n",
    "    for i in range(1, n):\n",
    "        ca[i, 0] = max(ca[i-1, 0], minkowski_distance(P[i], Q[0], p=pnorm))\n",
    "    for j in range(1, m):\n",
    "        ca[0, j] = max(ca[0, j-1], minkowski_distance(P[0], Q[j], p=pnorm))\n",
    "    for i in range(1, n):\n",
    "        for j in range(1, m):\n",
    "            ca[i, j] = max(min(ca[i-1, j], ca[i, j-1], ca[i-1, j-1]), minkowski_distance(P[i], Q[j], p=pnorm))\n",
    "    return ca[n-1, m-1]"
   ]
  },
  {
   "cell_type": "code",
   "execution_count": 3,
   "metadata": {},
   "outputs": [],
   "source": [
    "def benchmark_frechet(sizes, method, seed):\n",
    "    np.random.seed(seed)\n",
    "    n_dim = 5\n",
    "    n_rep = 100\n",
    "    times = np.zeros((len(sizes), n_rep))\n",
    "    for i, size in enumerate(sizes):\n",
    "        for j in range(n_rep):\n",
    "            P = np.random.random((size, n_dim))\n",
    "            Q = np.random.random((size, n_dim))\n",
    "            t0 = time()\n",
    "            d = method(P, Q)\n",
    "            t1 = time()\n",
    "            times[i, j] = t1 - t0\n",
    "    return times"
   ]
  },
  {
   "cell_type": "code",
   "execution_count": 4,
   "metadata": {},
   "outputs": [],
   "source": [
    "sizes = [20, 40, 50, 100, 200, 400, 500, 1000]\n",
    "# recursion times\n",
    "times_recursion = benchmark_frechet(sizes, sm.frechet_dist, 123)\n",
    "# dynamic programming times\n",
    "times_dp = benchmark_frechet(sizes, dp_frechet_dist, 123)"
   ]
  },
  {
   "cell_type": "code",
   "execution_count": 32,
   "metadata": {},
   "outputs": [
    {
     "data": {
      "text/plain": [
       "<matplotlib.legend.Legend at 0x179a9cf7048>"
      ]
     },
     "execution_count": 32,
     "metadata": {},
     "output_type": "execute_result"
    },
    {
     "data": {
      "image/png": "[encoded data removed]",
      "text/plain": [
       "<Figure size 432x288 with 1 Axes>"
      ]
     },
     "metadata": {},
     "output_type": "display_data"
    }
   ],
   "source": [
    "# compute means of runtimes\n",
    "times_recursion_mean = times_recursion.mean(axis=1)\n",
    "times_dp_mean = times_dp.mean(axis=1)\n",
    "\n",
    "# compute the 99th percntile to 99% confidence\n",
    "bounds_recursion = ti.twoside.normal(times_recursion, 0.99, 0.99)\n",
    "bounds_dp = ti.twoside.normal(times_dp, 0.99, 0.99)\n",
    "\n",
    "# get the - and plus values for error bars\n",
    "k_sigma_recursion = bounds_recursion[:, 1] - times_recursion_mean\n",
    "k_sigma_dp = bounds_dp[:, 1] - times_dp_mean\n",
    "\n",
    "fig = plt.figure()\n",
    "\n",
    "plt.errorbar(sizes, times_recursion_mean,\n",
    "             yerr=k_sigma_recursion,\n",
    "             capsize=2.0,\n",
    "             label='Recursion')\n",
    "plt.errorbar(sizes, times_dp_mean,\n",
    "             yerr=k_sigma_dp,\n",
    "             capsize=2.0,\n",
    "             label='Dynamic Programming')\n",
    "\n",
    "plt.semilogx(True)\n",
    "plt.semilogy(True)\n",
    "plt.xlabel(r'size of both $n$ and $m$')\n",
    "plt.ylabel('Run time, seconds')\n",
    "plt.legend()\n"
   ]
  },
  {
   "cell_type": "code",
   "execution_count": 33,
   "metadata": {},
   "outputs": [
    {
     "data": {
      "text/plain": [
       "array([[3.25992375e-03, 4.64877815e-03],\n",
       "       [1.45853575e-02, 1.70934669e-02],\n",
       "       [2.30060806e-02, 2.60926399e-02],\n",
       "       [9.22160358e-02, 1.03585184e-01],\n",
       "       [3.68224611e-01, 4.05469971e-01],\n",
       "       [1.47548921e+00, 1.60330885e+00],\n",
       "       [2.31211325e+00, 2.53257760e+00],\n",
       "       [9.33035073e+00, 1.00126972e+01]])"
      ]
     },
     "execution_count": 33,
     "metadata": {},
     "output_type": "execute_result"
    }
   ],
   "source": [
    "bounds_dp"
   ]
  },
  {
   "cell_type": "code",
   "execution_count": 34,
   "metadata": {},
   "outputs": [
    {
     "data": {
      "text/plain": [
       "array([0.00069443, 0.00125405, 0.00154328, 0.00568457, 0.01862268,\n",
       "       0.06390982, 0.11023217, 0.34117323])"
      ]
     },
     "execution_count": 34,
     "metadata": {},
     "output_type": "execute_result"
    }
   ],
   "source": [
    "k_sigma_dp"
   ]
  },
  {
   "cell_type": "code",
   "execution_count": 35,
   "metadata": {},
   "outputs": [
    {
     "data": {
      "text/plain": [
       "array([4.54413176e-03, 1.80364251e-02, 2.82256913e-02, 1.12782652e-01,\n",
       "       4.47925880e-01, 1.81814439e+00, 2.85805542e+00, 1.16504522e+01])"
      ]
     },
     "execution_count": 35,
     "metadata": {},
     "output_type": "execute_result"
    }
   ],
   "source": [
    "times_recursion_mean"
   ]
  },
  {
   "cell_type": "code",
   "execution_count": 36,
   "metadata": {},
   "outputs": [
    {
     "data": {
      "text/plain": [
       "array([3.95435095e-03, 1.58394122e-02, 2.45493603e-02, 9.79006100e-02,\n",
       "       3.86847291e-01, 1.53939903e+00, 2.42234542e+00, 9.67152396e+00])"
      ]
     },
     "execution_count": 36,
     "metadata": {},
     "output_type": "execute_result"
    }
   ],
   "source": [
    "times_dp_mean"
   ]
  },
  {
   "cell_type": "code",
   "execution_count": 37,
   "metadata": {},
   "outputs": [
    {
     "data": {
      "text/plain": [
       "array([1.14914731, 1.13870546, 1.14975262, 1.15201174, 1.15788811,\n",
       "       1.18107414, 1.17987113, 1.2046139 ])"
      ]
     },
     "execution_count": 37,
     "metadata": {},
     "output_type": "execute_result"
    }
   ],
   "source": [
    "times_recursion_mean/times_dp_mean"
   ]
  },
  {
   "cell_type": "code",
   "execution_count": 38,
   "metadata": {},
   "outputs": [
    {
     "data": {
      "text/plain": [
       "<matplotlib.axes._subplots.AxesSubplot at 0x179a9e7c5f8>"
      ]
     },
     "execution_count": 38,
     "metadata": {},
     "output_type": "execute_result"
    },
    {
     "data": {
      "image/png": "[encoded data removed]",
      "text/plain": [
       "<Figure size 432x288 with 1 Axes>"
      ]
     },
     "metadata": {},
     "output_type": "display_data"
    }
   ],
   "source": [
    "import seaborn as sns\n",
    "sns.set()\n",
    "sns.distplot(times_recursion[-1])"
   ]
  },
  {
   "cell_type": "code",
   "execution_count": 39,
   "metadata": {},
   "outputs": [
    {
     "data": {
      "text/plain": [
       "<matplotlib.axes._subplots.AxesSubplot at 0x179a9ee65f8>"
      ]
     },
     "execution_count": 39,
     "metadata": {},
     "output_type": "execute_result"
    },
    {
     "data": {
      "image/png": "[encoded data removed]",
      "text/plain": [
       "<Figure size 432x288 with 1 Axes>"
      ]
     },
     "metadata": {},
     "output_type": "display_data"
    }
   ],
   "source": [
    "sns.distplot(times_dp[-1])"
   ]
  },
  {
   "cell_type": "markdown",
   "metadata": {},
   "source": [
    "# Conclusion\n",
    "\n",
    "**The iterative code was about 1.2 times faster (on average, with 5 dimensions) than the recursive code.** The iterative code also has the benefit of not dealing with recursion limits. I think it's time to replace the recursive code."
   ]
  },
  {
   "cell_type": "code",
   "execution_count": null,
   "metadata": {},
   "outputs": [],
   "source": []
  }
 ],
 "metadata": {
  "kernelspec": {
   "display_name": "Python 3",
   "language": "python",
   "name": "python3"
  },
  "language_info": {
   "codemirror_mode": {
    "name": "ipython",
    "version": 3
   },
   "file_extension": ".py",
   "mimetype": "text/x-python",
   "name": "python",
   "nbconvert_exporter": "python",
   "pygments_lexer": "ipython3",
   "version": "3.6.9"
  }
 },
 "nbformat": 4,
 "nbformat_minor": 2
}
